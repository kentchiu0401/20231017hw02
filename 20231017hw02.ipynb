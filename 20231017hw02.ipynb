{
 "cells": [
  {
   "cell_type": "code",
   "execution_count": 12,
   "id": "ca162b38",
   "metadata": {},
   "outputs": [
    {
     "name": "stdout",
     "output_type": "stream",
     "text": [
      "  apples Alice  dogs \n",
      " oranges   Bob  cats \n",
      "cherries Carol moose \n",
      "  banana David goose \n"
     ]
    }
   ],
   "source": [
    "def printTable(tableData):\n",
    "    colWidths = [0] * len(tableData)\n",
    "    for i in range(len(tableData)):\n",
    "        for j in range(len(tableData[i])):\n",
    "            colWidths[i] = max(colWidths[i], len(tableData[i][j]))\n",
    "\n",
    "    for i in range(len(tableData[0])):\n",
    "        for j in range(len(tableData)):\n",
    "            print(tableData[j][i].rjust(colWidths[j]), end=' ')\n",
    "        print()\n",
    "\n",
    "tableData = [['apples', 'oranges', 'cherries', 'banana'],\n",
    "             ['Alice', 'Bob', 'Carol', 'David'],\n",
    "             ['dogs', 'cats', 'moose', 'goose']]\n",
    "\n",
    "printTable(tableData)"
   ]
  },
  {
   "cell_type": "code",
   "execution_count": null,
   "id": "c5734e04",
   "metadata": {},
   "outputs": [],
   "source": []
  }
 ],
 "metadata": {
  "kernelspec": {
   "display_name": "Python 3 (ipykernel)",
   "language": "python",
   "name": "python3"
  },
  "language_info": {
   "codemirror_mode": {
    "name": "ipython",
    "version": 3
   },
   "file_extension": ".py",
   "mimetype": "text/x-python",
   "name": "python",
   "nbconvert_exporter": "python",
   "pygments_lexer": "ipython3",
   "version": "3.11.4"
  }
 },
 "nbformat": 4,
 "nbformat_minor": 5
}
